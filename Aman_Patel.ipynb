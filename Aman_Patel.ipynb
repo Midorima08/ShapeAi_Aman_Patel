{
  "nbformat": 4,
  "nbformat_minor": 0,
  "metadata": {
    "colab": {
      "name": "Aman Patel.ipynb",
      "provenance": []
    },
    "kernelspec": {
      "name": "python3",
      "display_name": "Python 3"
    },
    "language_info": {
      "name": "python"
    }
  },
  "cells": [
    {
      "cell_type": "code",
      "metadata": {
        "id": "pYtoOdmr3xxV"
      },
      "source": [
        "## IMPORTANT DATASET\n",
        "from keras.datasets import mnist\n",
        "data =mnist.load_data()"
      ],
      "execution_count": null,
      "outputs": []
    },
    {
      "cell_type": "code",
      "metadata": {
        "id": "ZghNMVII5ZTI"
      },
      "source": [
        "((X_train , y_train), (X_test , y_test)) =data"
      ],
      "execution_count": null,
      "outputs": []
    },
    {
      "cell_type": "code",
      "metadata": {
        "id": "dQ-Rdm4P5eUA"
      },
      "source": [
        "type (data)"
      ],
      "execution_count": null,
      "outputs": []
    },
    {
      "cell_type": "code",
      "metadata": {
        "id": "UkuK34jb4Xz3"
      },
      "source": [
        "# Shape of Training Data\n",
        "X_train[0].shape"
      ],
      "execution_count": null,
      "outputs": []
    },
    {
      "cell_type": "code",
      "metadata": {
        "id": "e0AJuAY86hh_"
      },
      "source": [
        "#Reshape the Training Data\n",
        "X_train= X_train.reshape((X_train.shape[0], 28*28)).astype('float32')\n",
        "X_test= X_test.reshape((X_test.shape[0], 28*28)).astype('float32')"
      ],
      "execution_count": null,
      "outputs": []
    },
    {
      "cell_type": "code",
      "metadata": {
        "id": "0RKyyfMS7SIg"
      },
      "source": [
        "#Normalising values from 0-255 to 0-1\n",
        "X_train= X_train / 255\n",
        "X_test= X_test / 255"
      ],
      "execution_count": null,
      "outputs": []
    },
    {
      "cell_type": "code",
      "metadata": {
        "id": "9C3kgosp7Xc8"
      },
      "source": [
        "from keras.utils import np_utils\n",
        "\n",
        "print (y_test.shape)\n",
        "y_train =np_utils.to_categorical(y_train)\n",
        "y_test =np_utils.to_categorical(y_test)\n",
        "\n",
        "num_classes = y_test.shape[1]\n",
        "print (num_classes)"
      ],
      "execution_count": null,
      "outputs": []
    },
    {
      "cell_type": "code",
      "metadata": {
        "id": "OA3wy2BL8spZ"
      },
      "source": [
        "from keras.models import Sequential\n",
        "from keras.layers import Dense\n"
      ],
      "execution_count": null,
      "outputs": []
    },
    {
      "cell_type": "code",
      "metadata": {
        "id": "uIUU6kwO9yhK"
      },
      "source": [
        "# Define Model\n",
        "model= Sequential()\n",
        "\n",
        "#Add first hidden Layer\n",
        "model.add(Dense(32, input_dim = 28*28, activation='relu'))\n",
        "\n",
        "# Add Second Hidden Layer\n",
        "model.add(Dense(64,  activation='relu'))\n",
        "\n",
        "#Add output layer having 10 neurons  (since there are 10 classes/categories)\n",
        "model.add(Dense(10, activation ='softmax'))"
      ],
      "execution_count": null,
      "outputs": []
    },
    {
      "cell_type": "code",
      "metadata": {
        "id": "F2vjvn1N-1ew"
      },
      "source": [
        "# Compile Model\n",
        "model.compile(loss='categorical_crossentropy', optimizer='adam', metrics=['accuracy'])"
      ],
      "execution_count": null,
      "outputs": []
    },
    {
      "cell_type": "code",
      "metadata": {
        "id": "SIMtCfPz_obi"
      },
      "source": [
        "# Print Model summary \n",
        "model.summary()"
      ],
      "execution_count": null,
      "outputs": []
    },
    {
      "cell_type": "code",
      "metadata": {
        "id": "qHXRkOml_2ep"
      },
      "source": [
        "# Train Model\n",
        "model.fit(X_train , y_train , validation_split=0.2 , eopchs=10, batch_size=100)"
      ],
      "execution_count": null,
      "outputs": []
    },
    {
      "cell_type": "code",
      "metadata": {
        "id": "m0qQWDDQAoZz"
      },
      "source": [
        "score= model.evaluate(X_test, y_test)\n",
        "print(scores)"
      ],
      "execution_count": null,
      "outputs": []
    }
  ]
}